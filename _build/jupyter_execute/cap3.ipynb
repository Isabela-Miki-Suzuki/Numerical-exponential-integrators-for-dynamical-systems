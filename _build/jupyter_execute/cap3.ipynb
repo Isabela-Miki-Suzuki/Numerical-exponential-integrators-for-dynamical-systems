{
 "cells": [
  {
   "attachments": {},
   "cell_type": "markdown",
   "id": "78edb303",
   "metadata": {
    "id": "78edb303"
   },
   "source": [
    "# Chapter 3: important concepts for the study of exponential methods"
   ]
  },
  {
   "attachments": {},
   "cell_type": "markdown",
   "id": "a91f65d1",
   "metadata": {
    "id": "a91f65d1"
   },
   "source": [
    "In this chapter, a review on the theory of matrix exponential and in $\\phi$ functions is done because of its need when applying exponential methods in systems of ODE with initial value. Besides that, the format of the treated problem is shown."
   ]
  },
  {
   "attachments": {},
   "cell_type": "markdown",
   "id": "b682eb10",
   "metadata": {
    "id": "b682eb10"
   },
   "source": [
    "## Matrix exponential"
   ]
  },
  {
   "attachments": {},
   "cell_type": "markdown",
   "id": "34f0c308",
   "metadata": {
    "id": "34f0c308"
   },
   "source": [
    "Based on the Maclaurin series of the exponential function\n",
    "$$\n",
    "    e^x = \\sum_{i=0}^{\\infty} \\frac{x^i}{i!},\n",
    "$$"
   ]
  },
  {
   "attachments": {},
   "cell_type": "markdown",
   "id": "b58e0cf0",
   "metadata": {
    "id": "b58e0cf0"
   },
   "source": [
    "the $\\textbf{exponential of a square complex matrix }A$ is defined as\n",
    "$$\n",
    "    e^A \\doteq \\sum_{i=0}^{\\infty} \\frac{A^i}{i!}.\n",
    "$$"
   ]
  },
  {
   "attachments": {},
   "cell_type": "markdown",
   "id": "6890c452",
   "metadata": {
    "id": "6890c452"
   },
   "source": [
    "This is well defined because it has been proven that the sequence ${p_k}$ with, $\\forall k \\in \\mathbb{N}$:\n",
    "$$\n",
    "    p_k = \\sum_{i=0}^{k} \\frac{A^i}{i!}, \\text{ $\\forall A$ as decribed above,}\n",
    "$$\n",
    "is a Cauchy sequence, and therefore converge to a limit matrix which was denoted $e^A$, since the set of the square complex matrix with fixed lenght with the norm \n",
    "$$\n",
    "||A|| = \\max_{||x||=1} ||Ax||\n",
    "$$\n",
    "is a Banach space."
   ]
  },
  {
   "attachments": {},
   "cell_type": "markdown",
   "id": "b41eefcd",
   "metadata": {
    "id": "b41eefcd"
   },
   "source": [
    "### Exponential of a zeros matrix"
   ]
  },
  {
   "attachments": {},
   "cell_type": "markdown",
   "id": "528da61f",
   "metadata": {
    "id": "528da61f"
   },
   "source": [
    "If $A =   \n",
    "\\left[ {\\begin{array}{ccccc}\n",
    "    0 & 0 & 0 & \\dotsm & 0\\\\\n",
    "    0 & 0 & 0 & \\dotsm & 0\\\\\n",
    "    0 & 0 & 0 & \\dotsm & 0\\\\\n",
    "    \\vdots & \\vdots & \\vdots & \\ddots & \\vdots\\\\\n",
    "    0 & 0 & 0 & \\dotsm & 0\\\\\n",
    "\\end{array} } \\right] $,\n",
    "\n",
    "$$\n",
    "    e^A \\doteq \\sum_{i=0}^{\\infty} \\frac{A^i}{i!} = I + A + \\frac{A^2}{2} + \\dotsm = I + 0 + 0 + \\dotsm = I.\n",
    "$$"
   ]
  },
  {
   "attachments": {},
   "cell_type": "markdown",
   "id": "5a54acd0",
   "metadata": {
    "id": "5a54acd0"
   },
   "source": [
    "### Exponential of a diagonal matrix"
   ]
  },
  {
   "attachments": {},
   "cell_type": "markdown",
   "id": "40d9550e",
   "metadata": {
    "id": "40d9550e"
   },
   "source": [
    "If $A =   \n",
    "\\left[ {\\begin{array}{ccccc}\n",
    "    \\lambda_1 & 0 & 0 & \\dotsm & 0\\\\\n",
    "    0 & \\lambda_2 & 0 & \\dotsm & 0\\\\\n",
    "    0 & 0 & \\lambda_3 & \\dotsm & 0\\\\\n",
    "    \\vdots & \\vdots & \\vdots & \\ddots & \\vdots\\\\\n",
    "    0 & 0 & 0 & \\dotsm & \\lambda_{N}\\\\\n",
    "\\end{array} } \\right] \n",
    "  = diag(\\lambda_1, \\lambda_2, \\lambda_3, \\dotsm, \\lambda_N)$,"
   ]
  },
  {
   "attachments": {},
   "cell_type": "markdown",
   "id": "29f67c3e",
   "metadata": {
    "id": "29f67c3e"
   },
   "source": [
    "it is easy to note that\n",
    "\n",
    "$$\n",
    "    A^2 = diag \\left(\\lambda_1^2, \\lambda_2^2, \\lambda_3^2, \\dotsc, \\lambda_N^2 \\right)\n",
    "$$\n",
    "\n",
    "$$\n",
    "    A^3 = diag \\left(\\lambda_1^3, \\lambda_2^3, \\lambda_3^3, \\dotsc, \\lambda_N^3 \\right)\n",
    "$$\n",
    "\n",
    "$$\n",
    "\\vdots\n",
    "$$\n",
    "\n",
    "$$\n",
    "    A^j = diag \\left(\\lambda_1^j, \\lambda_2^j, \\lambda_3^j, \\dotsc, \\lambda_N^j \\right) , \\forall j \\in \\mathbb{N}\n",
    "$$\n",
    "\n",
    "$$\n",
    "\\vdots\n",
    "$$"
   ]
  },
  {
   "attachments": {},
   "cell_type": "markdown",
   "id": "ef684563",
   "metadata": {
    "id": "ef684563"
   },
   "source": [
    "so\n",
    "$$\n",
    "    e^A \\doteq \\sum_{i=0}^{\\infty} \\frac{A^i}{i!} = diag\\left(\\sum_{i=0}^{\\infty} \\frac{\\lambda_1^i}{i!}, \\sum_{i=0}^{\\infty} \\frac{\\lambda_2^i}{i!}, \\sum_{i=0}^{\\infty} \\frac{\\lambda_3^i}{i!}, \\dotsc, \\sum_{i=0}^{\\infty} \\frac{\\lambda_N^i}{i!}\\right)\n",
    "$$\n",
    "\n",
    "$$\n",
    "    = diag \\left( e^{\\lambda_1}, e^{\\lambda_2}, e^{\\lambda_3}, \\dotsc, e^{\\lambda_N} \\right).\n",
    "$$"
   ]
  },
  {
   "attachments": {},
   "cell_type": "markdown",
   "id": "79f4010c",
   "metadata": {
    "id": "79f4010c"
   },
   "source": [
    "In the same way, if B is a diagonal by blocks matrix:\n",
    "\n",
    "$$\n",
    "B =   \n",
    "\\left[ {\\begin{array}{ccccc}\n",
    "    B_1 & 0 & 0 & \\dotsm & 0\\\\\n",
    "    0 & B_2 & 0 & \\dotsm & 0\\\\\n",
    "    0 & 0 & B_3 & \\dotsm & 0\\\\\n",
    "    \\vdots & \\vdots & \\vdots & \\ddots & \\vdots\\\\\n",
    "    0 & 0 & 0 & \\dotsm & B_{N}\\\\\n",
    "\\end{array} } \\right] \n",
    "  = diag(B_1, B_2, B_3, \\dotsm, B_N),\n",
    "$$\n",
    "  \n",
    "then \n",
    " \n",
    "$$\n",
    "e^B = diag(e^{B_1}, e^{B_2}, e^{B_3}, \\dotsm, e^{B_N}).\n",
    "$$"
   ]
  },
  {
   "attachments": {},
   "cell_type": "markdown",
   "id": "ec6442a7",
   "metadata": {
    "id": "ec6442a7"
   },
   "source": [
    "### Exponential of a matrix of ones above the diagonal"
   ]
  },
  {
   "attachments": {},
   "cell_type": "markdown",
   "id": "568677e2",
   "metadata": {
    "id": "568677e2"
   },
   "source": [
    "If $A = A_{N \\times N} =   \n",
    "\\left[ {\\begin{array}{ccccccc}\n",
    "    0 & 1 &  &  &  &  & \\\\\n",
    "     & 0 & 1 &  &  &  &\\\\\n",
    "     &  & 0 & 1 &  &  &\\\\\n",
    "     &  &  & 0 & 1 &  &\\\\\n",
    "     &  &  &  & 0 & \\ddots &  \\\\\n",
    "     &  &  &  &  & \\ddots & 1 \\\\\n",
    "     &  &  &  &  &  & 0 \\\\\n",
    "\\end{array} } \\right] $,"
   ]
  },
  {
   "attachments": {},
   "cell_type": "markdown",
   "id": "871c9a32",
   "metadata": {
    "id": "871c9a32"
   },
   "source": [
    "one can calculate\n",
    "\n",
    "$$\n",
    "A^2 = A \\cdot A =  \n",
    "\\left[ {\\begin{array}{ccccccc}\n",
    "    0 & 1 &  &  &  &  & \\\\\n",
    "     & 0 & 1 &  &  &  &\\\\\n",
    "     &  & 0 & 1 &  &  &\\\\\n",
    "     &  &  & 0 & 1 &  &\\\\\n",
    "     &  &  &  & 0 & \\ddots &  \\\\\n",
    "     &  &  &  &  & \\ddots & 1 \\\\\n",
    "     &  &  &  &  &  & 0 \\\\\n",
    "\\end{array} } \\right]  \\cdot \n",
    "\\left[ {\\begin{array}{ccccccc}\n",
    "    0 & 1 &  &  &  &  & \\\\\n",
    "     & 0 & 1 &  &  &  &\\\\\n",
    "     &  & 0 & 1 &  &  &\\\\\n",
    "     &  &  & 0 & 1 &  &\\\\\n",
    "     &  &  &  & 0 & \\ddots &  \\\\\n",
    "     &  &  &  &  & \\ddots & 1 \\\\\n",
    "     &  &  &  &  &  & 0 \\\\\n",
    "\\end{array} } \\right] \n",
    "$$\n",
    "\n",
    "$$\n",
    "  =   \\left[ {\\begin{array}{ccccccc}\n",
    "    0 & 0 & 1 &  &  &  & \\\\\n",
    "     & 0 & 0 & 1 &  &  &\\\\\n",
    "     &  & 0 & 0 & 1 &  &\\\\\n",
    "     &  &  & 0 & 0 & \\ddots &\\\\\n",
    "     &  &  &  & 0 & \\ddots & 1 \\\\\n",
    "     &  &  &  &  & \\ddots & 0 \\\\\n",
    "     &  &  &  &  &  & 0 \\\\\n",
    "\\end{array} } \\right], \n",
    "$$"
   ]
  },
  {
   "attachments": {},
   "cell_type": "markdown",
   "id": "3000679e",
   "metadata": {
    "id": "3000679e"
   },
   "source": [
    "$$\n",
    "    A^3 = A \\cdot A^2 = \\left[ {\\begin{array}{ccccccc}\n",
    "    0 & 1 &  &  &  &  & \\\\\n",
    "     & 0 & 1 &  &  &  &\\\\\n",
    "     &  & 0 & 1 &  &  &\\\\\n",
    "     &  &  & 0 & 1 &  &\\\\\n",
    "     &  &  &  & 0 & \\ddots &  \\\\\n",
    "     &  &  &  &  & \\ddots & 1 \\\\\n",
    "     &  &  &  &  &  & 0 \\\\\n",
    "\\end{array} } \\right] \\cdot \\left[ {\\begin{array}{ccccccc}\n",
    "    0 & 0 & 1 &  &  &  & \\\\\n",
    "     & 0 & 0 & 1 &  &  &\\\\\n",
    "     &  & 0 & 0 & 1 &  &\\\\\n",
    "     &  &  & 0 & 0 & \\ddots &\\\\\n",
    "     &  &  &  & 0 & \\ddots & 1 \\\\\n",
    "     &  &  &  &  & \\ddots & 0 \\\\\n",
    "     &  &  &  &  &  & 0 \\\\\n",
    "\\end{array} } \\right] \n",
    "$$\n",
    "\n",
    "$$\n",
    "= \\left[ {\\begin{array}{ccccccc}\n",
    "    0 & 0 & 0 & 1 &  &  & \\\\\n",
    "     & 0 & 0 & 0 & 1 &  &\\\\\n",
    "     &  & 0 & 0 & 0 & \\ddots &\\\\\n",
    "     &  &  & 0 & 0 & \\ddots & 1\\\\\n",
    "     &  &  &  & 0 & \\ddots & 0 \\\\\n",
    "     &  &  &  &  & \\ddots & 0 \\\\\n",
    "     &  &  &  &  &  & 0 \\\\\n",
    "\\end{array} } \\right],\n",
    "$$"
   ]
  },
  {
   "attachments": {},
   "cell_type": "markdown",
   "id": "4cda11b1",
   "metadata": {
    "id": "4cda11b1"
   },
   "source": [
    "$$\n",
    "    \\vdots\n",
    "$$"
   ]
  },
  {
   "attachments": {},
   "cell_type": "markdown",
   "id": "42131df3",
   "metadata": {
    "id": "42131df3"
   },
   "source": [
    "$$\n",
    "    A^{N-2} = \\left[ {\\begin{array}{ccccccc}\n",
    "     &  &  &  & 0 & 1 & 0\\\\\n",
    "     &  &  &  &  & 0 & 1 \\\\\n",
    "     &  &  &  &  &  & 0 \\\\\n",
    "     &  &  &  &  &  &  \\\\\n",
    "     &  &  &  &  &  &  \\\\\n",
    "     &  &  &  &  &  &  \\\\\n",
    "     &  &  &  &  &  &  \\\\\n",
    "\\end{array} } \\right],\n",
    "$$"
   ]
  },
  {
   "attachments": {},
   "cell_type": "markdown",
   "id": "3a4a3876",
   "metadata": {
    "id": "3a4a3876"
   },
   "source": [
    "$$\n",
    "    A^{N-1} = \\left[ {\\begin{array}{ccccccc}\n",
    "     &  &  &  &  &  & 1\\\\\n",
    "     &  &  &  &  &  &  \\\\\n",
    "     &  &  &  &  &  &  \\\\\n",
    "     &  &  &  &  &  &  \\\\\n",
    "     &  &  &  &  &  &  \\\\\n",
    "     &  &  &  &  &  &  \\\\\n",
    "     &  &  &  &  &  &  \\\\\n",
    "\\end{array} } \\right],\n",
    "$$"
   ]
  },
  {
   "attachments": {},
   "cell_type": "markdown",
   "id": "7df84f9a",
   "metadata": {
    "id": "7df84f9a"
   },
   "source": [
    "$$\n",
    "    A^{N} = 0.\n",
    "$$"
   ]
  },
  {
   "attachments": {},
   "cell_type": "markdown",
   "id": "82a8ce01",
   "metadata": {
    "id": "82a8ce01"
   },
   "source": [
    "And then, with $t \\in \\mathbb{R}$\n",
    "$$\n",
    "    e^{tA} \\doteq \\sum_{i=0}^{\\infty} \\frac{tA^i}{i!}\n",
    "$$\n",
    "\n",
    "$$\n",
    "    = Id + tA + \\frac{t^2 A^2}{2} + \\frac{t^3 A^3}{6} + \\dotsc + \\frac{t^{N-2} A^{N-2}}{(N-2)!} + \\frac{t^{N-1} A^{N-1}}{(N-1)!} + 0 + 0 + \\dotsc + 0\n",
    "$$"
   ]
  },
  {
   "attachments": {},
   "cell_type": "markdown",
   "id": "8df7d0e9",
   "metadata": {
    "id": "8df7d0e9"
   },
   "source": [
    "$$\n",
    "    = \\left[ {\\begin{array}{ccccccc}\n",
    "    1 &  &  &  &  &  & \\\\\n",
    "     & 1 &  &  &  &  &\\\\\n",
    "     &  & 1 &  &  &  &\\\\\n",
    "     &  &  & 1 &  &  &\\\\\n",
    "     &  &  &  & 1 &  &\\\\\n",
    "     &  &  &  &  & \\ddots &\\\\\n",
    "     &  &  &  &  &  & 1 \\\\\n",
    "\\end{array} } \\right] + \\left[ {\\begin{array}{ccccccc}\n",
    "    0 & t &  &  &  &  & \\\\\n",
    "     & 0 & t &  &  &  &\\\\\n",
    "     &  & 0 & t &  &  &\\\\\n",
    "     &  &  & 0 & t &  &\\\\\n",
    "     &  &  &  & 0 & \\ddots &  \\\\\n",
    "     &  &  &  &  & \\ddots & t \\\\\n",
    "     &  &  &  &  &  & 0 \\\\\n",
    "\\end{array} } \\right] + \n",
    "$$\n",
    "\n",
    "$$\n",
    "+ \\left[ {\\begin{array}{ccccccc}\n",
    "    0 & 0 & \\frac{t^2}{2} &  &  &  & \\\\\n",
    "     & 0 & 0 & \\frac{t^2}{2} &  &  &\\\\\n",
    "     &  & 0 & 0 & \\frac{t^2}{2} &  &\\\\\n",
    "     &  &  & 0 & 0 & \\ddots &\\\\\n",
    "     &  &  &  & 0 & \\ddots & \\frac{t^2}{2} \\\\\n",
    "     &  &  &  &  & \\ddots & 0 \\\\\n",
    "     &  &  &  &  &  & 0 \\\\\n",
    "\\end{array} } \\right] + \\dotsc + \\left[ {\\begin{array}{ccccccc}\n",
    "     &  &  &  &  &  & \\frac{t^{N-1}}{(N-1)!}\\\\\n",
    "     &  &  &  &  &  &  \\\\\n",
    "     &  &  &  &  &  &  \\\\\n",
    "     &  &  &  &  &  &  \\\\\n",
    "     &  &  &  &  &  &  \\\\\n",
    "     &  &  &  &  &  &  \\\\\n",
    "     &  &  &  &  &  &  \\\\\n",
    "\\end{array} } \\right]\n",
    "$$"
   ]
  },
  {
   "attachments": {},
   "cell_type": "markdown",
   "id": "0ec6e13c",
   "metadata": {
    "id": "0ec6e13c"
   },
   "source": [
    "$$\n",
    "    = \\left[ {\\begin{array}{ccccccc}\n",
    "    1 & t & \\frac{t^2}{2} & \\frac{t^3}{3!} & \\frac{t^4}{4!} & \\dotsc & \\frac{t^{N-1}}{(N-1)!}\\\\\n",
    "     & 1 & t & \\frac{t^2}{2} & \\frac{t^3}{3!} & \\ddots & \\vdots \\\\\n",
    "     &  & 1 & t & \\frac{t^2}{2} & \\ddots & \\frac{t^4}{4!}\\\\\n",
    "     &  &  & 1 & t & \\ddots & \\frac{t^3}{3!}\\\\\n",
    "     &  &  &  & 1 & \\ddots & \\frac{t^2}{2} \\\\\n",
    "     &  &  &  &  & \\ddots & t \\\\\n",
    "     &  &  &  &  &  & 1 \\\\\n",
    "\\end{array} } \\right].\n",
    "$$"
   ]
  },
  {
   "attachments": {},
   "cell_type": "markdown",
   "id": "b92fb275",
   "metadata": {
    "id": "b92fb275"
   },
   "source": [
    "### Exponential of a Jordan block"
   ]
  },
  {
   "attachments": {},
   "cell_type": "markdown",
   "id": "5de2bb11",
   "metadata": {
    "id": "5de2bb11"
   },
   "source": [
    "$\\textbf{Proposition:}$ $A_1, A_2 \\in \\mathscr{M}_{N \\times N}(\\mathbb{C})$. If $A_1 \\cdot A_2 = A_2 \\cdot A_1$, then $e^{A_1+A_2} = e^{A_1} \\cdot e^{A_2}$."
   ]
  },
  {
   "attachments": {},
   "cell_type": "markdown",
   "id": "627a3294",
   "metadata": {
    "id": "627a3294"
   },
   "source": [
    "A Jordan block is of the form:\n",
    "$$\n",
    "J = \\left[ {\\begin{array}{ccccc}\n",
    "    \\lambda_i & 1 & 0 & \\dotsm & 0\\\\\n",
    "    0 & \\lambda_i & 1 & \\dotsm & 0\\\\\n",
    "    0 & 0 & \\lambda_i & \\ddots & 0\\\\\n",
    "    \\vdots & \\vdots & \\vdots & \\ddots & 1\\\\\n",
    "    0 & 0 & 0 & \\dotsm & \\lambda_i\\\\\n",
    "\\end{array} } \\right] \n",
    "$$\n",
    "\n",
    "$$\n",
    "= \\left[ {\\begin{array}{ccccc}\n",
    "    \\lambda_i & 0 & 0 & \\dotsm & 0\\\\\n",
    "    0 & \\lambda_i & 0 & \\dotsm & 0\\\\\n",
    "    0 & 0 & \\lambda_i & \\dotsm & 0\\\\\n",
    "    \\vdots & \\vdots & \\vdots & \\ddots & \\vdots\\\\\n",
    "    0 & 0 & 0 & \\dotsm & \\lambda_i\\\\\n",
    "\\end{array} } \\right] + \\left[ {\\begin{array}{ccccc}\n",
    "    0 & 1 &  &  & \\\\\n",
    "     & 0 & 1 &  &\\\\\n",
    "     &  & 0 & \\ddots &\\\\\n",
    "     &  &  & \\ddots & 1\\\\\n",
    "     &  &  &  & 0\\\\\n",
    "\\end{array} } \\right] \n",
    "$$\n",
    "\n",
    "$$\n",
    "    = D + N,\n",
    "$$"
   ]
  },
  {
   "attachments": {},
   "cell_type": "markdown",
   "id": "da614aa0",
   "metadata": {
    "id": "da614aa0"
   },
   "source": [
    "and\n",
    "$$\n",
    "\\left[ {\\begin{array}{ccccc}\n",
    "    \\lambda_i & 0 & 0 & \\dotsm & 0\\\\\n",
    "    0 & \\lambda_i & 0 & \\dotsm & 0\\\\\n",
    "    0 & 0 & \\lambda_i & \\dotsm & 0\\\\\n",
    "    \\vdots & \\vdots & \\vdots & \\ddots & \\vdots\\\\\n",
    "    0 & 0 & 0 & \\dotsm & \\lambda_i\\\\\n",
    "\\end{array} } \\right] \\cdot \\left[ {\\begin{array}{ccccc}\n",
    "    0 & 1 &  &  & \\\\\n",
    "     & 0 & 1 &  &\\\\\n",
    "     &  & 0 & \\ddots &\\\\\n",
    "     &  &  & \\ddots & 1\\\\\n",
    "     &  &  &  & 0\\\\\n",
    "\\end{array} } \\right] \n",
    "$$\n",
    "\n",
    "$$\n",
    "= \\left[ {\\begin{array}{ccccc}\n",
    "    0 & \\lambda_i &  &  & \\\\\n",
    "     & 0 & \\lambda_i &  &\\\\\n",
    "     &  & 0 & \\ddots &\\\\\n",
    "     &  &  & \\ddots & \\lambda_i\\\\\n",
    "     &  &  &  & 0\\\\\n",
    "\\end{array} } \\right] \n",
    "$$\n",
    "\n",
    "$$\n",
    "= \\left[ {\\begin{array}{ccccc}\n",
    "    0 & 1 &  &  & \\\\\n",
    "     & 0 & 1 &  &\\\\\n",
    "     &  & 0 & \\ddots &\\\\\n",
    "     &  &  & \\ddots & 1\\\\\n",
    "     &  &  &  & 0\\\\\n",
    "\\end{array} } \\right] \\cdot \\left[ {\\begin{array}{ccccc}\n",
    "    \\lambda_i & 0 & 0 & \\dotsm & 0\\\\\n",
    "    0 & \\lambda_i & 0 & \\dotsm & 0\\\\\n",
    "    0 & 0 & \\lambda_i & \\dotsm & 0\\\\\n",
    "    \\vdots & \\vdots & \\vdots & \\ddots & \\vdots\\\\\n",
    "    0 & 0 & 0 & \\dotsm & \\lambda_i\\\\\n",
    "\\end{array} } \\right],\n",
    "$$"
   ]
  },
  {
   "attachments": {},
   "cell_type": "markdown",
   "id": "1b11b727",
   "metadata": {
    "id": "1b11b727"
   },
   "source": [
    "so\n",
    "$$\n",
    "    e^{tJ} = e^{tD+tN} = e^{tD} \\cdot e^{tN}\n",
    "$$\n",
    "\n",
    "$$\n",
    "= \\left[ {\\begin{array}{ccccc}\n",
    "    e^{t \\lambda_i} & 0 & 0 & \\dotsm & 0\\\\\n",
    "    0 & e^{t \\lambda_i} & 0 & \\dotsm & 0\\\\\n",
    "    0 & 0 & e^{t \\lambda_i} & \\dotsm & 0\\\\\n",
    "    \\vdots & \\vdots & \\vdots & \\ddots & \\vdots\\\\\n",
    "    0 & 0 & 0 & \\dotsm & e^{t \\lambda_i}\\\\\n",
    "\\end{array} } \\right] \\cdot \\left[ {\\begin{array}{ccccc}\n",
    "    1 & t & \\frac{t^2}{2} & \\dotsc & \\frac{t^{N-1}}{(N-1)!}\\\\\n",
    "     & 1 & t & \\ddots & \\vdots\\\\\n",
    "     &  & 1 & \\ddots & \\frac{t^2}{2} \\\\\n",
    "     &  &  & \\ddots & t \\\\\n",
    "     &  &  &  & 1 \\\\\n",
    "\\end{array} } \\right]\n",
    "$$\n",
    "\n",
    "$$\n",
    "= \\left[ {\\begin{array}{ccccc}\n",
    "    e^{t \\lambda_i} & e^{t \\lambda_i}t & \\frac{e^{t \\lambda_i} t^2}{2} & \\dotsc & \\frac{e^{t \\lambda_i} t^{N-1}}{(N-1)!}\\\\\n",
    "     & e^{t \\lambda_i} & e^{t \\lambda_i} t & \\ddots & \\vdots\\\\\n",
    "     &  & e^{t \\lambda_i} & \\ddots & \\frac{e^{t \\lambda_i} t^2}{2} \\\\\n",
    "     &  &  & \\ddots & e^{t \\lambda_i} t \\\\\n",
    "     &  &  &  & e^{t \\lambda_i} \\\\\n",
    "\\end{array} } \\right], t \\in \\mathbb{R}.\n",
    "$$"
   ]
  },
  {
   "attachments": {},
   "cell_type": "markdown",
   "id": "13a1c0cb",
   "metadata": {
    "id": "13a1c0cb"
   },
   "source": [
    "### Exponential of any matrix"
   ]
  },
  {
   "attachments": {},
   "cell_type": "markdown",
   "id": "7e26cf35",
   "metadata": {
    "id": "7e26cf35"
   },
   "source": [
    "$\\textbf{Proposition: } \\forall A \\in \\mathscr{M}_{N \\times N}(\\mathbb{C}), \\exists M \\in \\mathscr{M}_{N \\times N}(\\mathbb{C})$ invertible, such that $A = MJM^{-1}$, with \n",
    "$$ \n",
    "J = \\left[ {\\begin{array}{ccccc}\n",
    "    J_1 & 0 & 0 & \\dotsm & 0\\\\\n",
    "    0 & J_2 & 0 & \\dotsm & 0\\\\\n",
    "    0 & 0 & J_3 & \\dotsm & 0\\\\\n",
    "    \\vdots & \\vdots & \\vdots & \\ddots & \\vdots\\\\\n",
    "    0 & 0 & 0 & \\dotsm & J_{N}\\\\\n",
    "\\end{array} } \\right]\n",
    "$$\n",
    "and each $J_i$, $i = 1, 2, 3, \\dotsc, N$ being a Jordan block, i.e., \n",
    "$$\n",
    "J_i = \\left[ {\\begin{array}{ccccc}\n",
    "    \\lambda_i & 0 & 0 & \\dotsm & 0\\\\\n",
    "    0 & \\lambda_i & 0 & \\dotsm & 0\\\\\n",
    "    0 & 0 & \\lambda_i & \\dotsm & 0\\\\\n",
    "    \\vdots & \\vdots & \\vdots & \\ddots & \\vdots\\\\\n",
    "    0 & 0 & 0 & \\dotsm & \\lambda_i\\\\\n",
    "\\end{array} } \\right]\n",
    "$$ \n",
    "for some $\\lambda_i \\in \\mathbb{C}$ ."
   ]
  },
  {
   "attachments": {},
   "cell_type": "markdown",
   "id": "0979eee7",
   "metadata": {
    "id": "0979eee7"
   },
   "source": [
    "Note that\n",
    "$$\n",
    "    (MJM^{-1})^k = MJM^{-1}MJM^{-1}MJM^{-1} \\dotsc MJM^{-1} \n",
    "$$\n",
    "\n",
    "$$\n",
    "    = MJIJIJM^{-1} \\dotsc MJM^{-1} = MJJJ \\dotsc JM^{-1} = MJ^kM^{-1}.\n",
    "$$"
   ]
  },
  {
   "attachments": {},
   "cell_type": "markdown",
   "id": "7af29696",
   "metadata": {
    "id": "7af29696"
   },
   "source": [
    "Because of the formula of the series that defines the expansion, it implicates in $e^{MJM^{-1}} = M e^J M^{-1}$."
   ]
  },
  {
   "attachments": {},
   "cell_type": "markdown",
   "id": "eee03960",
   "metadata": {
    "id": "eee03960"
   },
   "source": [
    "And then, using the same notation from the last proposition,\n",
    "$$\n",
    "e^{tA} = e^{tMJM^{-1}} = e^{MtJM^{-1}} = Me^{tJ}M^{-1} \n",
    "$$\n",
    "\n",
    "$$\n",
    "    = M \\left[ { \\begin{array}{ccccc}\n",
    "        e^{tJ_1} & 0 & 0 & \\dotsm & 0\\\\\n",
    "        0 & e^{tJ_2} & 0 & \\dotsm & 0\\\\\n",
    "        0 & 0 & e^{tJ_3} & \\dotsm & 0\\\\\n",
    "        \\vdots & \\vdots & \\vdots & \\ddots & \\vdots\\\\\n",
    "        0 & 0 & 0 & \\dotsm & e^{tJ_{N}}\\\\\n",
    "    \\end{array} } \\right] M^{-1}, t \\in \\mathbb{R},\n",
    "$$\n",
    "with each block as the section above indicates."
   ]
  },
  {
   "attachments": {},
   "cell_type": "markdown",
   "id": "7d5b3374",
   "metadata": {
    "id": "7d5b3374"
   },
   "source": [
    "## Linear problem"
   ]
  },
  {
   "attachments": {},
   "cell_type": "markdown",
   "id": "a5c08ae8",
   "metadata": {
    "id": "a5c08ae8"
   },
   "source": [
    "The linear problem is, following with the used notation:\n",
    "$$\n",
    "\\begin{cases}\n",
    "    y'(t) + \\lambda y(t) = g(y(t), t), t \\in (t_0, T) \\\\\n",
    "    y(t_0) = y_0 \n",
    "    \\text{,}\n",
    "\\end{cases}\n",
    "$$\n",
    "the one with $g \\equiv 0.$"
   ]
  },
  {
   "attachments": {},
   "cell_type": "markdown",
   "id": "c5aa32b0",
   "metadata": {
    "id": "c5aa32b0"
   },
   "source": [
    "So, generaly, it is of the form:\n",
    "$$\n",
    "\\begin{cases}\n",
    "    y'(t) = A y(t), t \\in (t_0, T) \\\\\n",
    "    y(t_0) = y_0 \n",
    "    \\text{,}\n",
    "\\end{cases}\n",
    "$$\n",
    "with $A \\in \\mathscr{M}_{N \\times N}(\\mathbb{C}), N \\in \\mathbb{N}$  (remembering that a matrix $1 \\times 1$ is simply a number)."
   ]
  },
  {
   "attachments": {},
   "cell_type": "markdown",
   "id": "4fe39a80",
   "metadata": {
    "id": "4fe39a80"
   },
   "source": [
    "Because $A y(t)$ is a $C^1$ function in $y$, continuous in $t$ and $t \\in (t_0, T)$, a limited interval, by the existence and uniqueness theorem, there is a single solution of the problem."
   ]
  },
  {
   "attachments": {},
   "cell_type": "markdown",
   "id": "91996d4a",
   "metadata": {
    "id": "91996d4a"
   },
   "source": [
    "Since \n",
    "$$\n",
    "    \\frac{d}{dt}y_0e^{A(t-t_0)} \\doteq \\lim_{h\\to0} \\frac{y_0e^{A(t-t_0+h)}-y_0e^{A(t-t_0)}}{h}\n",
    "$$\n",
    "\n",
    "$$\n",
    "    = y_0e^{(t-t_0)A}\\lim_{h\\to0} \\frac{e^{Ah}-I}{h} \n",
    "$$\n",
    "\n",
    "$$\n",
    "    = y_0e^{(t-t_0)A}\\lim_{h\\to0} \\frac{Ae^{Ah}}{1} \n",
    "$$\n",
    "\n",
    "$$\n",
    "    = y_0e^{(t-t_0)A} \\frac{Ae^{A0}}{1}\n",
    "$$\n",
    "\n",
    "$$\n",
    "    = y_0e^{(t-t_0)A} A I = A y_0e^{(t-t_0)A} \n",
    "$$"
   ]
  },
  {
   "attachments": {},
   "cell_type": "markdown",
   "id": "3ffce5b5",
   "metadata": {
    "id": "3ffce5b5"
   },
   "source": [
    "using L'Hôpital's rule on the second equality and noting that $A(t-t_0+h) = A(t-t_0)+Ah$ and $A(t-t_0) \\cdot Ah = (t-t_0)hAA = Ah \\cdot A(t-t_0)$, so it was possible to apply the last proposition and make $e^{A(t-t_0+h)} = e^{A(t-t_0)} \\cdot e^{Ah}$,"
   ]
  },
  {
   "attachments": {},
   "cell_type": "markdown",
   "id": "74979378",
   "metadata": {
    "id": "74979378"
   },
   "source": [
    "taking\n",
    "$$\n",
    "    y(t) = y_0e^{A(t-t_0)},\n",
    "$$"
   ]
  },
  {
   "attachments": {},
   "cell_type": "markdown",
   "id": "cdf2a917",
   "metadata": {
    "id": "cdf2a917"
   },
   "source": [
    "$$\n",
    "    y'(t) = A y_0 e^{(t-t_0)A} = A y(t) \\text{ and } y(t_0) = y_0 e^{(t_0-t_0)A} = y_0 I = y_0.\n",
    "$$"
   ]
  },
  {
   "attachments": {},
   "cell_type": "markdown",
   "id": "35420139",
   "metadata": {
    "id": "35420139"
   },
   "source": [
    "So, the solution for the general linear problem is $y(t)=y_0 e^{A(t-t_0)}$."
   ]
  },
  {
   "attachments": {},
   "cell_type": "markdown",
   "id": "b9fc191b",
   "metadata": {
    "id": "b9fc191b"
   },
   "source": [
    "All information about matrix exponential is from [4]."
   ]
  },
  {
   "attachments": {},
   "cell_type": "markdown",
   "id": "ipmwMvuZBN3-",
   "metadata": {
    "id": "ipmwMvuZBN3-"
   },
   "source": [
    "## General problem"
   ]
  },
  {
   "attachments": {},
   "cell_type": "markdown",
   "id": "msBRMfB_BuGb",
   "metadata": {
    "id": "msBRMfB_BuGb"
   },
   "source": [
    "Returning to the general case\n",
    "\n",
    "$\\begin{cases}\n",
    "    y'(t) + \\lambda y(t) = g(y(t), t), t \\in (t_0, T) \\\\\n",
    "    y(t_0) = y_0 \n",
    "    \\text{,}\n",
    "\\end{cases}$\n",
    "\n",
    "there is the variation of constants formula:\n",
    "$$\n",
    "    y(t) = e^{-t \\lambda}y_0 + \\int_{t_0}^t e^{-\\lambda(t-\\tau)} g(y(\\tau), \\tau) d\\tau.\n",
    "$$\n",
    "This well known implicit function, gives a solution of the problem. \n",
    "\n",
    "If the integral part can be solved, there is a explicit solution, and if the problem satisfies the hypotesis of the Piccard problem, being Lipschitz in $t$, this is the only solution.\n",
    "\n",
    "This formula is the basis of all the exponential methods."
   ]
  },
  {
   "attachments": {},
   "cell_type": "markdown",
   "id": "81c3a258",
   "metadata": {},
   "source": [
    "## $\\phi$ functions\n",
    "\n",
    "Before introducing exponential methods, it is useful to present the $\\phi$ functions.\n",
    "\n",
    "They are $\\mathbb{C} \\rightarrow \\mathbb{C}$ functions defined as:\n",
    "\n",
    "$$\n",
    "  \\phi_0 (z) = e^z;\n",
    "$$\n",
    "\n",
    "$$\n",
    "  \\phi_n (z) = \\int_{0}^{1} e^{(1-\\tau)z} \\frac{\\tau^{n-1}}{(n-1)!} \\,d\\tau, n \\geq 1.\n",
    "$$"
   ]
  },
  {
   "attachments": {},
   "cell_type": "markdown",
   "id": "0f1eeebb",
   "metadata": {},
   "source": [
    "By integration by parts,\n",
    "\n",
    "$$\n",
    "  \\phi_{n+1} (z) = \\int_{0}^{1} e^{(1-\\tau)z} \\frac{\\tau^n}{n!} \\,d\\tau \\\\\n",
    "  = - \\frac{e^{(1-1)z}}{z} \\frac{1^n}{n!} + \\frac{e^{(1-0)z}}{z} \\frac{0^n}{l!} - \\int_{0}^{1} -\\frac{e^{(1-\\tau)z}}{z} \\frac{\\tau^{n-1}}{(n-1)!} \\,d\\tau \\\\\n",
    "  = - \\frac{1}{n!z} + \\frac{1}{z}\\int_{0}^{1} e^{(1-\\tau)z} \\frac{\\tau^{n-1}}{(n-1)!} \\,d\\tau.\n",
    "$$"
   ]
  },
  {
   "attachments": {},
   "cell_type": "markdown",
   "id": "d9cc2c27",
   "metadata": {},
   "source": [
    "Since\n",
    "$$\n",
    "  \\phi_n(0) = \\int_{0}^{1} e^0 \\frac{\\tau^{n-1}}{(n-1)!} \\,d\\tau = \\int_{0}^{1} \\frac{\\tau^{n-1}}{(n-1)!} \\,d\\tau = \\frac{1^n}{n!} - 0 = \\frac{1}{n!},\n",
    "$$"
   ]
  },
  {
   "attachments": {},
   "cell_type": "markdown",
   "id": "5563b8fa",
   "metadata": {},
   "source": [
    "$$\n",
    "  \\phi_{n+1}(z) = \\frac{\\phi_n(z) - \\phi_n(0)}{z}, \\textbf{the recursive characterization}.\n",
    "$$"
   ]
  },
  {
   "attachments": {},
   "cell_type": "markdown",
   "id": "69507f48",
   "metadata": {},
   "source": [
    "By the properties of integral [5], if $h \\in \\mathbb{R}^*, t_k \\in \\mathbb{R}, t_k+h = t_{k+1},$\n",
    "\n",
    "$$\n",
    "  \\phi_n (z) = \\int_{0}^{1} e^{(1-\\tau)z} \\frac{\\tau^{n-1}}{(n-1)!} \\,d\\tau \\\\\n",
    "  = \\frac{1}{h}\\int_{0}^{h} e^{\\frac{(h-\\tau)z}{h}} \\frac{\\tau^{n-1}}{h^{n-1}(n-1)!} \\,d\\tau \\\\\n",
    "  = \\frac{1}{h}\\int_{t_k}^{t_k + h} e^{\\frac{(h-\\tau+t_k)z}{h}} \\frac{(\\tau - t_k)^{n-1}}{h^{n-1}(n-1)!} \\,d\\tau,\n",
    "$$"
   ]
  },
  {
   "attachments": {},
   "cell_type": "markdown",
   "id": "6f86ac05",
   "metadata": {},
   "source": [
    "$$\n",
    "  \\phi_n (z) = \\frac{1}{h^l}\\int_{t_k}^{t_{k+1}} e^{\\frac{1}{h}(t_{k+1}-\\tau)z} \\frac{(\\tau - t_k)^{n-1}}{(n-1)!} \\,d\\tau.\n",
    "$$"
   ]
  },
  {
   "attachments": {},
   "cell_type": "markdown",
   "id": "f697f9d6",
   "metadata": {},
   "source": [
    "Information from [1]."
   ]
  }
 ],
 "metadata": {
  "colab": {
   "provenance": []
  },
  "kernelspec": {
   "display_name": "Python 3 (ipykernel)",
   "language": "python",
   "name": "python3"
  },
  "language_info": {
   "codemirror_mode": {
    "name": "ipython",
    "version": 3
   },
   "file_extension": ".py",
   "mimetype": "text/x-python",
   "name": "python",
   "nbconvert_exporter": "python",
   "pygments_lexer": "ipython3",
   "version": "3.10.6"
  }
 },
 "nbformat": 4,
 "nbformat_minor": 5
}