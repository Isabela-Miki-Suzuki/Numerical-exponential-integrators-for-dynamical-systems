{
 "cells": [
  {
   "attachments": {},
   "cell_type": "markdown",
   "id": "78edb303",
   "metadata": {
    "id": "78edb303"
   },
   "source": [
    "# Important concepts for the study of exponential methods"
   ]
  },
  {
   "attachments": {},
   "cell_type": "markdown",
   "id": "a91f65d1",
   "metadata": {
    "id": "a91f65d1"
   },
   "source": [
    "In this chapter, a review on $\\phi$ functions is done, because of its need when applying exponential methods in systems of ODE with initial value. Besides that, the format of the treated problem is shown.\n",
    "\n",
    "It is worth remembering the importance of the matrix exponential for the linear problems treated here, which is in the\n",
    "appendix."
   ]
  },
  {
   "attachments": {},
   "cell_type": "markdown",
   "id": "7d5b3374",
   "metadata": {
    "id": "7d5b3374"
   },
   "source": [
    "## Linear problem"
   ]
  },
  {
   "attachments": {},
   "cell_type": "markdown",
   "id": "a5c08ae8",
   "metadata": {
    "id": "a5c08ae8"
   },
   "source": [
    "The linear problem is, following with the used notation:\n",
    "\n",
    "$$\n",
    "\\begin{cases}\n",
    "    y'(t) + \\lambda y(t) = g(y(t), t), t \\in (t_0, T) \\\\\n",
    "    y(t_0) = y_0 \n",
    "    \\text{,}\n",
    "\\end{cases}\n",
    "$$\n",
    "\n",
    "the one with $g \\equiv 0.$"
   ]
  },
  {
   "attachments": {},
   "cell_type": "markdown",
   "id": "c5aa32b0",
   "metadata": {
    "id": "c5aa32b0"
   },
   "source": [
    "So, generaly, it is of the form:\n",
    "\n",
    "$$\n",
    "\\begin{cases}\n",
    "    y'(t) = A y(t), t \\in (t_0, T) \\\\\n",
    "    y(t_0) = y_0 \n",
    "    \\text{,}\n",
    "\\end{cases}\n",
    "$$\n",
    "\n",
    "with $A \\in \\mathscr{M}_{N \\times N}(\\mathbb{C}), N \\in \\mathbb{N}$  (remembering that a matrix $1 \\times 1$ is simply a number)."
   ]
  },
  {
   "attachments": {},
   "cell_type": "markdown",
   "id": "4fe39a80",
   "metadata": {
    "id": "4fe39a80"
   },
   "source": [
    "Because $A y(t)$ is a $C^1$ function in $y$, continuous in $t$ and $t \\in (t_0, T)$, a limited interval, by the existence and uniqueness theorem, there is a single solution of the problem."
   ]
  },
  {
   "attachments": {},
   "cell_type": "markdown",
   "id": "91996d4a",
   "metadata": {
    "id": "91996d4a"
   },
   "source": [
    "Since \n",
    "\n",
    "$$\n",
    "    \\frac{d}{dt}y_0e^{A(t-t_0)} \\doteq \\lim_{h\\to0} \\frac{y_0e^{A(t-t_0+h)}-y_0e^{A(t-t_0)}}{h}\n",
    "$$\n",
    "\n",
    "$$\n",
    "    = y_0e^{(t-t_0)A}\\lim_{h\\to0} \\frac{e^{Ah}-I}{h} \n",
    "$$\n",
    "\n",
    "$$\n",
    "    = y_0e^{(t-t_0)A}\\lim_{h\\to0} \\frac{Ae^{Ah}}{1} \n",
    "$$\n",
    "\n",
    "$$\n",
    "    = y_0e^{(t-t_0)A} \\frac{Ae^{A0}}{1}\n",
    "$$\n",
    "\n",
    "$$\n",
    "    = y_0e^{(t-t_0)A} A I = A y_0e^{(t-t_0)A} \n",
    "$$"
   ]
  },
  {
   "attachments": {},
   "cell_type": "markdown",
   "id": "3ffce5b5",
   "metadata": {
    "id": "3ffce5b5"
   },
   "source": [
    "using L'Hôpital's rule on the second equality and noting that $A(t-t_0+h) = A(t-t_0)+Ah$ and $A(t-t_0) \\cdot Ah = (t-t_0)hAA = Ah \\cdot A(t-t_0)$, so it was possible to apply the last proposition and make $e^{A(t-t_0+h)} = e^{A(t-t_0)} \\cdot e^{Ah}$,"
   ]
  },
  {
   "attachments": {},
   "cell_type": "markdown",
   "id": "74979378",
   "metadata": {
    "id": "74979378"
   },
   "source": [
    "taking\n",
    "\n",
    "$$\n",
    "    y(t) = y_0e^{A(t-t_0)},\n",
    "$$"
   ]
  },
  {
   "attachments": {},
   "cell_type": "markdown",
   "id": "cdf2a917",
   "metadata": {
    "id": "cdf2a917"
   },
   "source": [
    "$$\n",
    "    y'(t) = A y_0 e^{(t-t_0)A} = A y(t) \\text{ and } y(t_0) = y_0 e^{(t_0-t_0)A} = y_0 I = y_0.\n",
    "$$"
   ]
  },
  {
   "attachments": {},
   "cell_type": "markdown",
   "id": "35420139",
   "metadata": {
    "id": "35420139"
   },
   "source": [
    "So, the solution for the general linear problem is $y(t)=y_0 e^{A(t-t_0)}$."
   ]
  },
  {
   "attachments": {},
   "cell_type": "markdown",
   "id": "b9fc191b",
   "metadata": {
    "id": "b9fc191b"
   },
   "source": [
    "All information about matrix exponential is from [4]."
   ]
  },
  {
   "attachments": {},
   "cell_type": "markdown",
   "id": "ipmwMvuZBN3-",
   "metadata": {
    "id": "ipmwMvuZBN3-"
   },
   "source": [
    "## General problem"
   ]
  },
  {
   "attachments": {},
   "cell_type": "markdown",
   "id": "msBRMfB_BuGb",
   "metadata": {
    "id": "msBRMfB_BuGb"
   },
   "source": [
    "Returning to the general case\n",
    "\n",
    "$\\begin{cases}\n",
    "    y'(t) + \\lambda y(t) = g(y(t), t), t \\in (t_0, T) \\\\\n",
    "    y(t_0) = y_0 \n",
    "    \\text{,}\n",
    "\\end{cases}$\n",
    "\n",
    "there is the variation of constants formula:\n",
    "\n",
    "$$\n",
    "    y(t) = e^{-t \\lambda}y_0 + \\int_{t_0}^t e^{-\\lambda(t-\\tau)} g(y(\\tau), \\tau) d\\tau.\n",
    "$$\n",
    "\n",
    "This well known implicit function, gives a solution of the problem. \n",
    "\n",
    "If the integral part can be solved, there is a explicit solution, and if the problem satisfies the hypotesis of the Piccard problem, being Lipschitz in $t$, this is the only solution.\n",
    "\n",
    "This formula is the basis of all the exponential methods."
   ]
  },
  {
   "attachments": {},
   "cell_type": "markdown",
   "id": "81c3a258",
   "metadata": {},
   "source": [
    "## $\\phi$ functions\n",
    "\n",
    "Before introducing exponential methods, it is useful to present the $\\phi$ functions.\n",
    "\n",
    "They are $\\mathbb{C} \\rightarrow \\mathbb{C}$ functions defined as:\n",
    "\n",
    "$$\n",
    "  \\phi_0 (z) = e^z;\n",
    "$$\n",
    "\n",
    "$$\n",
    "  \\phi_n (z) = \\int_{0}^{1} e^{(1-\\tau)z} \\frac{\\tau^{n-1}}{(n-1)!} \\,d\\tau, n \\geq 1.\n",
    "$$"
   ]
  },
  {
   "attachments": {},
   "cell_type": "markdown",
   "id": "0f1eeebb",
   "metadata": {},
   "source": [
    "By integration by parts,\n",
    "\n",
    "$$\n",
    "  \\phi_{n+1} (z) = \\int_{0}^{1} e^{(1-\\tau)z} \\frac{\\tau^n}{n!} \\,d\\tau \\\\\n",
    "  = - \\frac{e^{(1-1)z}}{z} \\frac{1^n}{n!} + \\frac{e^{(1-0)z}}{z} \\frac{0^n}{l!} - \\int_{0}^{1} -\\frac{e^{(1-\\tau)z}}{z} \\frac{\\tau^{n-1}}{(n-1)!} \\,d\\tau \\\\\n",
    "  = - \\frac{1}{n!z} + \\frac{1}{z}\\int_{0}^{1} e^{(1-\\tau)z} \\frac{\\tau^{n-1}}{(n-1)!} \\,d\\tau.\n",
    "$$"
   ]
  },
  {
   "attachments": {},
   "cell_type": "markdown",
   "id": "d9cc2c27",
   "metadata": {},
   "source": [
    "Since\n",
    "\n",
    "$$\n",
    "  \\phi_n(0) = \\int_{0}^{1} e^0 \\frac{\\tau^{n-1}}{(n-1)!} \\,d\\tau = \\int_{0}^{1} \\frac{\\tau^{n-1}}{(n-1)!} \\,d\\tau = \\frac{1^n}{n!} - 0 = \\frac{1}{n!},\n",
    "$$"
   ]
  },
  {
   "attachments": {},
   "cell_type": "markdown",
   "id": "5563b8fa",
   "metadata": {},
   "source": [
    "$$\n",
    "  \\phi_{n+1}(z) = \\frac{\\phi_n(z) - \\phi_n(0)}{z}, \\textbf{the recursive characterization}.\n",
    "$$"
   ]
  },
  {
   "attachments": {},
   "cell_type": "markdown",
   "id": "69507f48",
   "metadata": {},
   "source": [
    "By the properties of integral [5], if $h \\in \\mathbb{R}^*, t_k \\in \\mathbb{R}, t_k+h = t_{k+1},$\n",
    "\n",
    "$$\n",
    "  \\phi_n (z) = \\int_{0}^{1} e^{(1-\\tau)z} \\frac{\\tau^{n-1}}{(n-1)!} \\,d\\tau \\\\\n",
    "  = \\frac{1}{h}\\int_{0}^{h} e^{\\frac{(h-\\tau)z}{h}} \\frac{\\tau^{n-1}}{h^{n-1}(n-1)!} \\,d\\tau \\\\\n",
    "  = \\frac{1}{h}\\int_{t_k}^{t_k + h} e^{\\frac{(h-\\tau+t_k)z}{h}} \\frac{(\\tau - t_k)^{n-1}}{h^{n-1}(n-1)!} \\,d\\tau,\n",
    "$$"
   ]
  },
  {
   "attachments": {},
   "cell_type": "markdown",
   "id": "6f86ac05",
   "metadata": {},
   "source": [
    "$$\n",
    "  \\phi_n (z) = \\frac{1}{h^l}\\int_{t_k}^{t_{k+1}} e^{\\frac{1}{h}(t_{k+1}-\\tau)z} \\frac{(\\tau - t_k)^{n-1}}{(n-1)!} \\,d\\tau.\n",
    "$$"
   ]
  },
  {
   "attachments": {},
   "cell_type": "markdown",
   "id": "f697f9d6",
   "metadata": {},
   "source": [
    "Information from [1]."
   ]
  }
 ],
 "metadata": {
  "colab": {
   "provenance": []
  },
  "kernelspec": {
   "display_name": "Python 3 (ipykernel)",
   "language": "python",
   "name": "python3"
  },
  "language_info": {
   "codemirror_mode": {
    "name": "ipython",
    "version": 3
   },
   "file_extension": ".py",
   "mimetype": "text/x-python",
   "name": "python",
   "nbconvert_exporter": "python",
   "pygments_lexer": "ipython3",
   "version": "3.10.12"
  }
 },
 "nbformat": 4,
 "nbformat_minor": 5
}