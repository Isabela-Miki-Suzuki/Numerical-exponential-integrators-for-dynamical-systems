{
 "cells": [
  {
   "attachments": {},
   "cell_type": "markdown",
   "id": "6cdd5876",
   "metadata": {},
   "source": [
    "# Motivation - Stiffness\n",
    "\n",
    "The reason for studying exponential methods is that those are good with $\\textbf{stiff differential equations}$ in terms of precision and how small the time step is required to be to achieve good accuracy. "
   ]
  },
  {
   "attachments": {},
   "cell_type": "markdown",
   "id": "b61cfbd5",
   "metadata": {},
   "source": [
    "## Cauchy problem\n",
    "\n",
    "A $\\textbf{Cauchy problem}$ is a ordinary differential equation (ODE) with initial conditions. Being its standard scalar form:\n",
    "\n",
    "$\\begin{cases}\n",
    "    y'(t) = f(y(t), t), t \\in (t_0, T) \\\\\n",
    "    y(t_0) = y_0 \\in \\mathbb{K} \\text{,}\n",
    "\\end{cases}$\n",
    "\n",
    "with $\\mathbb{K}$ a field, $f$ function with image in $\\mathbb{K}$ and $t_0, T \\in \\mathbb{R}$.\n",
    "\n",
    "Sometimes, it is convenient to separate the linear part of $f$ as indicated below:\n",
    "\n",
    "$$\n",
    "\\begin{equation*}\n",
    "    f(y(t), t) = g(y(t), t) - \\lambda y(t) \\text{,}\n",
    "\\end{equation*}\n",
    "$$\n",
    "\n",
    "with $\\lambda \\in \\mathbb{K}$ or $\\mathscr{M}_{N \\times N}(\\mathbb{K})$.\n",
    "\n",
    "So the system is:\n",
    "\n",
    "$\\begin{cases}\n",
    "    y'(t) + \\lambda y(t) = g(y(t), t), t \\in (t_0, T) \\\\\n",
    "    y(0) = y_0 \n",
    "    \\text{.}\n",
    "\\end{cases}$\n",
    "\n",
    "In this project, the stiff ones were those addressed.\n",
    "\n",
    "Notation as in [1]."
   ]
  },
  {
   "attachments": {},
   "cell_type": "markdown",
   "id": "092c8dde",
   "metadata": {},
   "source": [
    "## Stiffness\n",
    "\n",
    "The error of the approximation given by a method trying to estimate the solution of a Cauchy problem is always given by a term multiplied by a higher derivative of the exact solution, because of the Taylor expansion with Lagrange form of the remainder. In that way, if that is enough information about this derivative, the error can be estimated. \n",
    "\n",
    "If the norm of the derivative increases with the time, but the exact solution doesn't, that is possible that the error dominates the approximation and the precision is lost. Those problems are called $\\textbf{stiff equations}$.\n",
    "\n",
    "Between them, there are the $\\textbf{stiff differential equations}$, that have exact solution given by the sum of a $\\textit{transient solution}$ with a $\\textit{steady state solution}$.\n",
    "\n",
    "The $\\textbf{transient solution}$ is of the form:"
   ]
  },
  {
   "attachments": {},
   "cell_type": "markdown",
   "id": "4c148a1d",
   "metadata": {},
   "source": [
    "$$\n",
    "\\begin{align*}\n",
    "e^{-ct} \\text{, with c >>1, }\n",
    "\\end{align*}\n",
    "$$"
   ]
  },
  {
   "attachments": {},
   "cell_type": "markdown",
   "id": "f843f56e",
   "metadata": {},
   "source": [
    "which is known to go to zero really fast as t increases. But its $n$th derivative"
   ]
  },
  {
   "attachments": {},
   "cell_type": "markdown",
   "id": "dfafdacc",
   "metadata": {},
   "source": [
    "$$\n",
    "\\begin{align*}\n",
    "\\mp c^{n}e^{-ct}\n",
    "\\end{align*}\n",
    "$$"
   ]
  },
  {
   "attachments": {},
   "cell_type": "markdown",
   "id": "00b3265d",
   "metadata": {},
   "source": [
    "doesn't go as quickly and may increase in magnitude."
   ]
  },
  {
   "attachments": {},
   "cell_type": "markdown",
   "id": "d45e9e27",
   "metadata": {},
   "source": [
    "The $\\textbf{steady state solution}$, however, as its name implies, have small changes as time passes, with higher derivative being almost constant zero."
   ]
  },
  {
   "attachments": {},
   "cell_type": "markdown",
   "id": "8c4d0382",
   "metadata": {},
   "source": [
    "In a system of ODE's, these characteristics are most common in problems in which the solution of the initial value problem is of the form"
   ]
  },
  {
   "attachments": {},
   "cell_type": "markdown",
   "id": "d434bb8d",
   "metadata": {},
   "source": [
    "$$\n",
    "\\begin{align*}\n",
    "e^{A}\n",
    "\\end{align*}\n",
    "$$"
   ]
  },
  {
   "attachments": {},
   "cell_type": "markdown",
   "id": "71fc93bc",
   "metadata": {},
   "source": [
    "being $A$ a matrix such that $\\lambda_{min}$ and $\\lambda_{max}$ are the eigenvalue with minimum and maximum value in modulus and $\\lambda_{min} << \\lambda_{max}$. On the bigger magnitude eigenvalue direction, the behaviour is very similar to the transient solution, having drastic changes over time and on the smaller one, comparing to that, changes almost nothing as times passes, like the steady state solution."
   ]
  },
  {
   "attachments": {},
   "cell_type": "markdown",
   "id": "89d7b0e8",
   "metadata": {},
   "source": [
    "Work around these problems and being able to accurately approximate these so contrasting parts of the solutions requires more robust methods than the more classic and common one-step methods addressed at the beginning of the study of numerical methods for Cauchy problems. For the systems, it is also required that that is a precise way to calculate the exponential of a matrix. \n",
    "\n",
    "In this project, we studied the $\\textbf{exponential methods}$, their capabilities to deal with these problems and the comparision with other simpler methods."
   ]
  },
  {
   "attachments": {},
   "cell_type": "markdown",
   "id": "1aab4d50",
   "metadata": {},
   "source": [
    "Definition from [2]."
   ]
  }
 ],
 "metadata": {
  "kernelspec": {
   "display_name": "Python 3 (ipykernel)",
   "language": "python",
   "name": "python3"
  },
  "language_info": {
   "codemirror_mode": {
    "name": "ipython",
    "version": 3
   },
   "file_extension": ".py",
   "mimetype": "text/x-python",
   "name": "python",
   "nbconvert_exporter": "python",
   "pygments_lexer": "ipython3",
   "version": "3.10.6"
  }
 },
 "nbformat": 4,
 "nbformat_minor": 5
}